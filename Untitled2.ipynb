{
 "cells": [
  {
   "cell_type": "code",
   "execution_count": 1,
   "metadata": {},
   "outputs": [
    {
     "name": "stdout",
     "output_type": "stream",
     "text": [
      "输入姓名：张仲楠\n",
      "张仲楠同学，学好python,前途无量！\n",
      "张仲楠大帅哥，学好python,去找甜甜！\n",
      "张仲楠老乡，学好python,可以找个好媳妇！\n"
     ]
    }
   ],
   "source": [
    "name=input(\"输入姓名：\")\n",
    "print(\"{}同学，学好python,前途无量！\".format(name))\n",
    "print(\"{}大帅哥，学好python,去找甜甜！\".format(name))\n",
    "print(\"{}老乡，学好python,可以找个好媳妇！\".format(name))"
   ]
  },
  {
   "cell_type": "code",
   "execution_count": null,
   "metadata": {},
   "outputs": [],
   "source": []
  }
 ],
 "metadata": {
  "kernelspec": {
   "display_name": "Python 3",
   "language": "python",
   "name": "python3"
  },
  "language_info": {
   "codemirror_mode": {
    "name": "ipython",
    "version": 3
   },
   "file_extension": ".py",
   "mimetype": "text/x-python",
   "name": "python",
   "nbconvert_exporter": "python",
   "pygments_lexer": "ipython3",
   "version": "3.7.1"
  }
 },
 "nbformat": 4,
 "nbformat_minor": 2
}
