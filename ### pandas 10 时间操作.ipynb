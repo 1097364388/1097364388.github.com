{
 "cells": [
  {
   "cell_type": "code",
   "execution_count": 108,
   "metadata": {},
   "outputs": [],
   "source": [
    "%matplotlib notebook\n",
    "import datetime"
   ]
  },
  {
   "cell_type": "code",
   "execution_count": 31,
   "metadata": {},
   "outputs": [],
   "source": [
    "#dt=datetime.datetime(year=2019,month=3,day=29,hour=10,minute=26)"
   ]
  },
  {
   "cell_type": "markdown",
   "metadata": {},
   "source": [
    "# dt=datetime.datetime(year=2019,month=3,day=29,hour=10,minute=26)"
   ]
  },
  {
   "cell_type": "code",
   "execution_count": 50,
   "metadata": {},
   "outputs": [
    {
     "data": {
      "text/plain": [
       "datetime.datetime(2019, 3, 29, 10, 26)"
      ]
     },
     "execution_count": 50,
     "metadata": {},
     "output_type": "execute_result"
    }
   ],
   "source": [
    "dt"
   ]
  },
  {
   "cell_type": "code",
   "execution_count": 51,
   "metadata": {},
   "outputs": [
    {
     "name": "stdout",
     "output_type": "stream",
     "text": [
      "2019-03-29 10:26:00\n"
     ]
    }
   ],
   "source": [
    "print(dt)"
   ]
  },
  {
   "cell_type": "code",
   "execution_count": 52,
   "metadata": {},
   "outputs": [
    {
     "data": {
      "text/plain": [
       "29"
      ]
     },
     "execution_count": 52,
     "metadata": {},
     "output_type": "execute_result"
    }
   ],
   "source": [
    "dt.day"
   ]
  },
  {
   "cell_type": "code",
   "execution_count": 53,
   "metadata": {},
   "outputs": [],
   "source": [
    "import pandas as pd"
   ]
  },
  {
   "cell_type": "code",
   "execution_count": 54,
   "metadata": {},
   "outputs": [],
   "source": [
    "ts=pd.Timestamp('2019-3-29')"
   ]
  },
  {
   "cell_type": "code",
   "execution_count": 55,
   "metadata": {},
   "outputs": [
    {
     "data": {
      "text/plain": [
       "Timestamp('2019-03-29 00:00:00')"
      ]
     },
     "execution_count": 55,
     "metadata": {},
     "output_type": "execute_result"
    }
   ],
   "source": [
    "ts"
   ]
  },
  {
   "cell_type": "markdown",
   "metadata": {},
   "source": [
    "# ts=pd.Timestamp('2019-3-29')\n",
    "\n",
    "# Timestamp 就是一个时间戳"
   ]
  },
  {
   "cell_type": "code",
   "execution_count": 56,
   "metadata": {},
   "outputs": [
    {
     "data": {
      "text/plain": [
       "3"
      ]
     },
     "execution_count": 56,
     "metadata": {},
     "output_type": "execute_result"
    }
   ],
   "source": [
    "ts.month"
   ]
  },
  {
   "cell_type": "code",
   "execution_count": 57,
   "metadata": {},
   "outputs": [
    {
     "data": {
      "text/plain": [
       "29"
      ]
     },
     "execution_count": 57,
     "metadata": {},
     "output_type": "execute_result"
    }
   ],
   "source": [
    "ts.day"
   ]
  },
  {
   "cell_type": "code",
   "execution_count": 58,
   "metadata": {},
   "outputs": [
    {
     "data": {
      "text/plain": [
       "Timestamp('2019-04-03 00:00:00')"
      ]
     },
     "execution_count": 58,
     "metadata": {},
     "output_type": "execute_result"
    }
   ],
   "source": [
    "ts + pd.Timedelta('5 days')"
   ]
  },
  {
   "cell_type": "code",
   "execution_count": 59,
   "metadata": {},
   "outputs": [
    {
     "data": {
      "text/plain": [
       "Timestamp('2019-03-29 00:00:00')"
      ]
     },
     "execution_count": 59,
     "metadata": {},
     "output_type": "execute_result"
    }
   ],
   "source": [
    "tt= pd.to_datetime('2019-3-29')\n",
    "tt"
   ]
  },
  {
   "cell_type": "code",
   "execution_count": 60,
   "metadata": {},
   "outputs": [
    {
     "data": {
      "text/plain": [
       "Timestamp('2019-03-29 00:00:00')"
      ]
     },
     "execution_count": 60,
     "metadata": {},
     "output_type": "execute_result"
    }
   ],
   "source": [
    "tt= pd.to_datetime('29/3/2019')\n",
    "tt"
   ]
  },
  {
   "cell_type": "markdown",
   "metadata": {},
   "source": [
    "# 构造时间的方法：\n",
    "\n",
    "##    tt= pd.to_datetime('2019-3-29')\n",
    "\n",
    "##    ts=pd.Timestamp('2019-3-29')"
   ]
  },
  {
   "cell_type": "markdown",
   "metadata": {},
   "source": [
    "# -----------------------------------------------------------------------------------"
   ]
  },
  {
   "cell_type": "code",
   "execution_count": 61,
   "metadata": {},
   "outputs": [],
   "source": [
    "s = pd.Series(['2019-03-29 00:00:00','2019-03-29 00:00:00','2019-03-29 00:00:00'])"
   ]
  },
  {
   "cell_type": "code",
   "execution_count": 62,
   "metadata": {},
   "outputs": [
    {
     "data": {
      "text/plain": [
       "0    2019-03-29 00:00:00\n",
       "1    2019-03-29 00:00:00\n",
       "2    2019-03-29 00:00:00\n",
       "dtype: object"
      ]
     },
     "execution_count": 62,
     "metadata": {},
     "output_type": "execute_result"
    }
   ],
   "source": [
    "s"
   ]
  },
  {
   "cell_type": "markdown",
   "metadata": {},
   "source": [
    "# 这时候生成的是一个object格式"
   ]
  },
  {
   "cell_type": "code",
   "execution_count": 63,
   "metadata": {},
   "outputs": [
    {
     "data": {
      "text/plain": [
       "0   2019-03-29\n",
       "1   2019-03-29\n",
       "2   2019-03-29\n",
       "dtype: datetime64[ns]"
      ]
     },
     "execution_count": 63,
     "metadata": {},
     "output_type": "execute_result"
    }
   ],
   "source": [
    "aa=pd.to_datetime(s)\n",
    "aa"
   ]
  },
  {
   "cell_type": "markdown",
   "metadata": {},
   "source": [
    "# 现在就是一个datetime格式"
   ]
  },
  {
   "cell_type": "code",
   "execution_count": 64,
   "metadata": {},
   "outputs": [
    {
     "data": {
      "text/plain": [
       "0    29\n",
       "1    29\n",
       "2    29\n",
       "dtype: int64"
      ]
     },
     "execution_count": 64,
     "metadata": {},
     "output_type": "execute_result"
    }
   ],
   "source": [
    "aa.dt.day"
   ]
  },
  {
   "cell_type": "markdown",
   "metadata": {},
   "source": [
    "# datetime.dt.day"
   ]
  },
  {
   "cell_type": "code",
   "execution_count": 65,
   "metadata": {},
   "outputs": [
    {
     "data": {
      "text/plain": [
       "0    2019\n",
       "1    2019\n",
       "2    2019\n",
       "dtype: int64"
      ]
     },
     "execution_count": 65,
     "metadata": {},
     "output_type": "execute_result"
    }
   ],
   "source": [
    "aa.dt.year"
   ]
  },
  {
   "cell_type": "code",
   "execution_count": 66,
   "metadata": {},
   "outputs": [
    {
     "data": {
      "text/plain": [
       "0    4\n",
       "1    4\n",
       "2    4\n",
       "dtype: int64"
      ]
     },
     "execution_count": 66,
     "metadata": {},
     "output_type": "execute_result"
    }
   ],
   "source": [
    "aa.dt.weekday"
   ]
  },
  {
   "cell_type": "markdown",
   "metadata": {},
   "source": [
    "# 下面直接构造时间序列"
   ]
  },
  {
   "cell_type": "code",
   "execution_count": 67,
   "metadata": {},
   "outputs": [
    {
     "data": {
      "text/plain": [
       "0   2019-03-29\n",
       "1   2019-03-30\n",
       "2   2019-03-31\n",
       "3   2019-04-01\n",
       "4   2019-04-02\n",
       "dtype: datetime64[ns]"
      ]
     },
     "execution_count": 67,
     "metadata": {},
     "output_type": "execute_result"
    }
   ],
   "source": [
    "pd.Series(pd.date_range(start='2019-3-29',periods=5))"
   ]
  },
  {
   "cell_type": "code",
   "execution_count": 68,
   "metadata": {},
   "outputs": [
    {
     "data": {
      "text/plain": [
       "0   2019-03-29 00:00:00\n",
       "1   2019-03-29 12:00:00\n",
       "2   2019-03-30 00:00:00\n",
       "3   2019-03-30 12:00:00\n",
       "4   2019-03-31 00:00:00\n",
       "dtype: datetime64[ns]"
      ]
     },
     "execution_count": 68,
     "metadata": {},
     "output_type": "execute_result"
    }
   ],
   "source": [
    "pd.Series(pd.date_range(start='2019-3-29',periods=5,freq='12H'))"
   ]
  },
  {
   "cell_type": "markdown",
   "metadata": {},
   "source": [
    "# ----------------------------------------------------------------------------------"
   ]
  },
  {
   "cell_type": "code",
   "execution_count": 69,
   "metadata": {},
   "outputs": [],
   "source": [
    "data=pd.read_csv('./data/flowdata.csv')"
   ]
  },
  {
   "cell_type": "code",
   "execution_count": 72,
   "metadata": {},
   "outputs": [
    {
     "data": {
      "text/html": [
       "<div>\n",
       "<style scoped>\n",
       "    .dataframe tbody tr th:only-of-type {\n",
       "        vertical-align: middle;\n",
       "    }\n",
       "\n",
       "    .dataframe tbody tr th {\n",
       "        vertical-align: top;\n",
       "    }\n",
       "\n",
       "    .dataframe thead th {\n",
       "        text-align: right;\n",
       "    }\n",
       "</style>\n",
       "<table border=\"1\" class=\"dataframe\">\n",
       "  <thead>\n",
       "    <tr style=\"text-align: right;\">\n",
       "      <th></th>\n",
       "      <th>Time</th>\n",
       "      <th>L06_347</th>\n",
       "      <th>LS06_347</th>\n",
       "      <th>LS06_348</th>\n",
       "    </tr>\n",
       "  </thead>\n",
       "  <tbody>\n",
       "    <tr>\n",
       "      <th>0</th>\n",
       "      <td>2009-01-01 00:00:00</td>\n",
       "      <td>0.137417</td>\n",
       "      <td>0.097500</td>\n",
       "      <td>0.016833</td>\n",
       "    </tr>\n",
       "    <tr>\n",
       "      <th>1</th>\n",
       "      <td>2009-01-01 03:00:00</td>\n",
       "      <td>0.131250</td>\n",
       "      <td>0.088833</td>\n",
       "      <td>0.016417</td>\n",
       "    </tr>\n",
       "    <tr>\n",
       "      <th>2</th>\n",
       "      <td>2009-01-01 06:00:00</td>\n",
       "      <td>0.113500</td>\n",
       "      <td>0.091250</td>\n",
       "      <td>0.016750</td>\n",
       "    </tr>\n",
       "    <tr>\n",
       "      <th>3</th>\n",
       "      <td>2009-01-01 09:00:00</td>\n",
       "      <td>0.135750</td>\n",
       "      <td>0.091500</td>\n",
       "      <td>0.016250</td>\n",
       "    </tr>\n",
       "    <tr>\n",
       "      <th>4</th>\n",
       "      <td>2009-01-01 12:00:00</td>\n",
       "      <td>0.140917</td>\n",
       "      <td>0.096167</td>\n",
       "      <td>0.017000</td>\n",
       "    </tr>\n",
       "  </tbody>\n",
       "</table>\n",
       "</div>"
      ],
      "text/plain": [
       "                  Time   L06_347  LS06_347  LS06_348\n",
       "0  2009-01-01 00:00:00  0.137417  0.097500  0.016833\n",
       "1  2009-01-01 03:00:00  0.131250  0.088833  0.016417\n",
       "2  2009-01-01 06:00:00  0.113500  0.091250  0.016750\n",
       "3  2009-01-01 09:00:00  0.135750  0.091500  0.016250\n",
       "4  2009-01-01 12:00:00  0.140917  0.096167  0.017000"
      ]
     },
     "execution_count": 72,
     "metadata": {},
     "output_type": "execute_result"
    }
   ],
   "source": [
    "data.head()"
   ]
  },
  {
   "cell_type": "code",
   "execution_count": 74,
   "metadata": {},
   "outputs": [
    {
     "data": {
      "text/plain": [
       "0    2009-01-01 00:00:00\n",
       "1    2009-01-01 03:00:00\n",
       "2    2009-01-01 06:00:00\n",
       "3    2009-01-01 09:00:00\n",
       "4    2009-01-01 12:00:00\n",
       "Name: Time, dtype: object"
      ]
     },
     "execution_count": 74,
     "metadata": {},
     "output_type": "execute_result"
    }
   ],
   "source": [
    "data['Time'][:5]"
   ]
  },
  {
   "cell_type": "markdown",
   "metadata": {},
   "source": [
    "# 上面的时间一栏是字符串格式的，将其转换成datatime"
   ]
  },
  {
   "cell_type": "code",
   "execution_count": 76,
   "metadata": {},
   "outputs": [],
   "source": [
    "data['Time']=pd.to_datetime(data['Time'])"
   ]
  },
  {
   "cell_type": "code",
   "execution_count": 78,
   "metadata": {},
   "outputs": [
    {
     "data": {
      "text/html": [
       "<div>\n",
       "<style scoped>\n",
       "    .dataframe tbody tr th:only-of-type {\n",
       "        vertical-align: middle;\n",
       "    }\n",
       "\n",
       "    .dataframe tbody tr th {\n",
       "        vertical-align: top;\n",
       "    }\n",
       "\n",
       "    .dataframe thead th {\n",
       "        text-align: right;\n",
       "    }\n",
       "</style>\n",
       "<table border=\"1\" class=\"dataframe\">\n",
       "  <thead>\n",
       "    <tr style=\"text-align: right;\">\n",
       "      <th></th>\n",
       "      <th>Time</th>\n",
       "      <th>L06_347</th>\n",
       "      <th>LS06_347</th>\n",
       "      <th>LS06_348</th>\n",
       "    </tr>\n",
       "  </thead>\n",
       "  <tbody>\n",
       "    <tr>\n",
       "      <th>0</th>\n",
       "      <td>2009-01-01 00:00:00</td>\n",
       "      <td>0.137417</td>\n",
       "      <td>0.097500</td>\n",
       "      <td>0.016833</td>\n",
       "    </tr>\n",
       "    <tr>\n",
       "      <th>1</th>\n",
       "      <td>2009-01-01 03:00:00</td>\n",
       "      <td>0.131250</td>\n",
       "      <td>0.088833</td>\n",
       "      <td>0.016417</td>\n",
       "    </tr>\n",
       "    <tr>\n",
       "      <th>2</th>\n",
       "      <td>2009-01-01 06:00:00</td>\n",
       "      <td>0.113500</td>\n",
       "      <td>0.091250</td>\n",
       "      <td>0.016750</td>\n",
       "    </tr>\n",
       "    <tr>\n",
       "      <th>3</th>\n",
       "      <td>2009-01-01 09:00:00</td>\n",
       "      <td>0.135750</td>\n",
       "      <td>0.091500</td>\n",
       "      <td>0.016250</td>\n",
       "    </tr>\n",
       "    <tr>\n",
       "      <th>4</th>\n",
       "      <td>2009-01-01 12:00:00</td>\n",
       "      <td>0.140917</td>\n",
       "      <td>0.096167</td>\n",
       "      <td>0.017000</td>\n",
       "    </tr>\n",
       "  </tbody>\n",
       "</table>\n",
       "</div>"
      ],
      "text/plain": [
       "                 Time   L06_347  LS06_347  LS06_348\n",
       "0 2009-01-01 00:00:00  0.137417  0.097500  0.016833\n",
       "1 2009-01-01 03:00:00  0.131250  0.088833  0.016417\n",
       "2 2009-01-01 06:00:00  0.113500  0.091250  0.016750\n",
       "3 2009-01-01 09:00:00  0.135750  0.091500  0.016250\n",
       "4 2009-01-01 12:00:00  0.140917  0.096167  0.017000"
      ]
     },
     "execution_count": 78,
     "metadata": {},
     "output_type": "execute_result"
    }
   ],
   "source": [
    "data[:5]"
   ]
  },
  {
   "cell_type": "code",
   "execution_count": 79,
   "metadata": {},
   "outputs": [],
   "source": [
    "data = data.set_index('Time')"
   ]
  },
  {
   "cell_type": "code",
   "execution_count": 81,
   "metadata": {},
   "outputs": [
    {
     "data": {
      "text/html": [
       "<div>\n",
       "<style scoped>\n",
       "    .dataframe tbody tr th:only-of-type {\n",
       "        vertical-align: middle;\n",
       "    }\n",
       "\n",
       "    .dataframe tbody tr th {\n",
       "        vertical-align: top;\n",
       "    }\n",
       "\n",
       "    .dataframe thead th {\n",
       "        text-align: right;\n",
       "    }\n",
       "</style>\n",
       "<table border=\"1\" class=\"dataframe\">\n",
       "  <thead>\n",
       "    <tr style=\"text-align: right;\">\n",
       "      <th></th>\n",
       "      <th>L06_347</th>\n",
       "      <th>LS06_347</th>\n",
       "      <th>LS06_348</th>\n",
       "    </tr>\n",
       "    <tr>\n",
       "      <th>Time</th>\n",
       "      <th></th>\n",
       "      <th></th>\n",
       "      <th></th>\n",
       "    </tr>\n",
       "  </thead>\n",
       "  <tbody>\n",
       "    <tr>\n",
       "      <th>2009-01-01 00:00:00</th>\n",
       "      <td>0.137417</td>\n",
       "      <td>0.097500</td>\n",
       "      <td>0.016833</td>\n",
       "    </tr>\n",
       "    <tr>\n",
       "      <th>2009-01-01 03:00:00</th>\n",
       "      <td>0.131250</td>\n",
       "      <td>0.088833</td>\n",
       "      <td>0.016417</td>\n",
       "    </tr>\n",
       "    <tr>\n",
       "      <th>2009-01-01 06:00:00</th>\n",
       "      <td>0.113500</td>\n",
       "      <td>0.091250</td>\n",
       "      <td>0.016750</td>\n",
       "    </tr>\n",
       "    <tr>\n",
       "      <th>2009-01-01 09:00:00</th>\n",
       "      <td>0.135750</td>\n",
       "      <td>0.091500</td>\n",
       "      <td>0.016250</td>\n",
       "    </tr>\n",
       "    <tr>\n",
       "      <th>2009-01-01 12:00:00</th>\n",
       "      <td>0.140917</td>\n",
       "      <td>0.096167</td>\n",
       "      <td>0.017000</td>\n",
       "    </tr>\n",
       "  </tbody>\n",
       "</table>\n",
       "</div>"
      ],
      "text/plain": [
       "                      L06_347  LS06_347  LS06_348\n",
       "Time                                             \n",
       "2009-01-01 00:00:00  0.137417  0.097500  0.016833\n",
       "2009-01-01 03:00:00  0.131250  0.088833  0.016417\n",
       "2009-01-01 06:00:00  0.113500  0.091250  0.016750\n",
       "2009-01-01 09:00:00  0.135750  0.091500  0.016250\n",
       "2009-01-01 12:00:00  0.140917  0.096167  0.017000"
      ]
     },
     "execution_count": 81,
     "metadata": {},
     "output_type": "execute_result"
    }
   ],
   "source": [
    "data.head()"
   ]
  },
  {
   "cell_type": "markdown",
   "metadata": {},
   "source": [
    "# 对于上面的表格可以进行如下操作"
   ]
  },
  {
   "cell_type": "code",
   "execution_count": 83,
   "metadata": {},
   "outputs": [
    {
     "data": {
      "text/html": [
       "<div>\n",
       "<style scoped>\n",
       "    .dataframe tbody tr th:only-of-type {\n",
       "        vertical-align: middle;\n",
       "    }\n",
       "\n",
       "    .dataframe tbody tr th {\n",
       "        vertical-align: top;\n",
       "    }\n",
       "\n",
       "    .dataframe thead th {\n",
       "        text-align: right;\n",
       "    }\n",
       "</style>\n",
       "<table border=\"1\" class=\"dataframe\">\n",
       "  <thead>\n",
       "    <tr style=\"text-align: right;\">\n",
       "      <th></th>\n",
       "      <th>L06_347</th>\n",
       "      <th>LS06_347</th>\n",
       "      <th>LS06_348</th>\n",
       "    </tr>\n",
       "    <tr>\n",
       "      <th>Time</th>\n",
       "      <th></th>\n",
       "      <th></th>\n",
       "      <th></th>\n",
       "    </tr>\n",
       "  </thead>\n",
       "  <tbody>\n",
       "    <tr>\n",
       "      <th>2012-01-01 09:00:00</th>\n",
       "      <td>0.330750</td>\n",
       "      <td>0.293583</td>\n",
       "      <td>0.029750</td>\n",
       "    </tr>\n",
       "    <tr>\n",
       "      <th>2012-01-01 12:00:00</th>\n",
       "      <td>0.295000</td>\n",
       "      <td>0.285167</td>\n",
       "      <td>0.031750</td>\n",
       "    </tr>\n",
       "    <tr>\n",
       "      <th>2012-01-01 15:00:00</th>\n",
       "      <td>0.301417</td>\n",
       "      <td>0.287750</td>\n",
       "      <td>0.031417</td>\n",
       "    </tr>\n",
       "    <tr>\n",
       "      <th>2012-01-01 18:00:00</th>\n",
       "      <td>0.322083</td>\n",
       "      <td>0.304167</td>\n",
       "      <td>0.038083</td>\n",
       "    </tr>\n",
       "  </tbody>\n",
       "</table>\n",
       "</div>"
      ],
      "text/plain": [
       "                      L06_347  LS06_347  LS06_348\n",
       "Time                                             \n",
       "2012-01-01 09:00:00  0.330750  0.293583  0.029750\n",
       "2012-01-01 12:00:00  0.295000  0.285167  0.031750\n",
       "2012-01-01 15:00:00  0.301417  0.287750  0.031417\n",
       "2012-01-01 18:00:00  0.322083  0.304167  0.038083"
      ]
     },
     "execution_count": 83,
     "metadata": {},
     "output_type": "execute_result"
    }
   ],
   "source": [
    "data[pd.Timestamp('2012-01-01 09:00'):pd.Timestamp('2012-01-01 19:00')]"
   ]
  },
  {
   "cell_type": "markdown",
   "metadata": {},
   "source": [
    "###  data[pd.Timestamp('2012-01-01 09:00'):pd.Timestamp('2012-01-01 19:00')]\n",
    "\n",
    "## 这样可以截取表格中一段数据"
   ]
  },
  {
   "cell_type": "code",
   "execution_count": 86,
   "metadata": {},
   "outputs": [
    {
     "data": {
      "text/html": [
       "<div>\n",
       "<style scoped>\n",
       "    .dataframe tbody tr th:only-of-type {\n",
       "        vertical-align: middle;\n",
       "    }\n",
       "\n",
       "    .dataframe tbody tr th {\n",
       "        vertical-align: top;\n",
       "    }\n",
       "\n",
       "    .dataframe thead th {\n",
       "        text-align: right;\n",
       "    }\n",
       "</style>\n",
       "<table border=\"1\" class=\"dataframe\">\n",
       "  <thead>\n",
       "    <tr style=\"text-align: right;\">\n",
       "      <th></th>\n",
       "      <th>L06_347</th>\n",
       "      <th>LS06_347</th>\n",
       "      <th>LS06_348</th>\n",
       "    </tr>\n",
       "    <tr>\n",
       "      <th>Time</th>\n",
       "      <th></th>\n",
       "      <th></th>\n",
       "      <th></th>\n",
       "    </tr>\n",
       "  </thead>\n",
       "  <tbody>\n",
       "    <tr>\n",
       "      <th>2012-01-01 09:00:00</th>\n",
       "      <td>0.330750</td>\n",
       "      <td>0.293583</td>\n",
       "      <td>0.029750</td>\n",
       "    </tr>\n",
       "    <tr>\n",
       "      <th>2012-01-01 12:00:00</th>\n",
       "      <td>0.295000</td>\n",
       "      <td>0.285167</td>\n",
       "      <td>0.031750</td>\n",
       "    </tr>\n",
       "    <tr>\n",
       "      <th>2012-01-01 15:00:00</th>\n",
       "      <td>0.301417</td>\n",
       "      <td>0.287750</td>\n",
       "      <td>0.031417</td>\n",
       "    </tr>\n",
       "    <tr>\n",
       "      <th>2012-01-01 18:00:00</th>\n",
       "      <td>0.322083</td>\n",
       "      <td>0.304167</td>\n",
       "      <td>0.038083</td>\n",
       "    </tr>\n",
       "  </tbody>\n",
       "</table>\n",
       "</div>"
      ],
      "text/plain": [
       "                      L06_347  LS06_347  LS06_348\n",
       "Time                                             \n",
       "2012-01-01 09:00:00  0.330750  0.293583  0.029750\n",
       "2012-01-01 12:00:00  0.295000  0.285167  0.031750\n",
       "2012-01-01 15:00:00  0.301417  0.287750  0.031417\n",
       "2012-01-01 18:00:00  0.322083  0.304167  0.038083"
      ]
     },
     "execution_count": 86,
     "metadata": {},
     "output_type": "execute_result"
    }
   ],
   "source": [
    "data[('2012-01-01 09:00'):('2012-01-01 19:00')]"
   ]
  },
  {
   "cell_type": "markdown",
   "metadata": {},
   "source": [
    "# 把上面的pd.Timestamp去掉也可以取出"
   ]
  },
  {
   "cell_type": "markdown",
   "metadata": {},
   "source": [
    "# 查看最后几个数据"
   ]
  },
  {
   "cell_type": "code",
   "execution_count": 87,
   "metadata": {},
   "outputs": [
    {
     "data": {
      "text/html": [
       "<div>\n",
       "<style scoped>\n",
       "    .dataframe tbody tr th:only-of-type {\n",
       "        vertical-align: middle;\n",
       "    }\n",
       "\n",
       "    .dataframe tbody tr th {\n",
       "        vertical-align: top;\n",
       "    }\n",
       "\n",
       "    .dataframe thead th {\n",
       "        text-align: right;\n",
       "    }\n",
       "</style>\n",
       "<table border=\"1\" class=\"dataframe\">\n",
       "  <thead>\n",
       "    <tr style=\"text-align: right;\">\n",
       "      <th></th>\n",
       "      <th>L06_347</th>\n",
       "      <th>LS06_347</th>\n",
       "      <th>LS06_348</th>\n",
       "    </tr>\n",
       "    <tr>\n",
       "      <th>Time</th>\n",
       "      <th></th>\n",
       "      <th></th>\n",
       "      <th></th>\n",
       "    </tr>\n",
       "  </thead>\n",
       "  <tbody>\n",
       "    <tr>\n",
       "      <th>2013-01-01 12:00:00</th>\n",
       "      <td>1.710000</td>\n",
       "      <td>1.710000</td>\n",
       "      <td>0.129583</td>\n",
       "    </tr>\n",
       "    <tr>\n",
       "      <th>2013-01-01 15:00:00</th>\n",
       "      <td>1.420000</td>\n",
       "      <td>1.420000</td>\n",
       "      <td>0.096333</td>\n",
       "    </tr>\n",
       "    <tr>\n",
       "      <th>2013-01-01 18:00:00</th>\n",
       "      <td>1.178583</td>\n",
       "      <td>1.178583</td>\n",
       "      <td>0.083083</td>\n",
       "    </tr>\n",
       "    <tr>\n",
       "      <th>2013-01-01 21:00:00</th>\n",
       "      <td>0.898250</td>\n",
       "      <td>0.898250</td>\n",
       "      <td>0.077167</td>\n",
       "    </tr>\n",
       "    <tr>\n",
       "      <th>2013-01-02 00:00:00</th>\n",
       "      <td>0.860000</td>\n",
       "      <td>0.860000</td>\n",
       "      <td>0.075000</td>\n",
       "    </tr>\n",
       "  </tbody>\n",
       "</table>\n",
       "</div>"
      ],
      "text/plain": [
       "                      L06_347  LS06_347  LS06_348\n",
       "Time                                             \n",
       "2013-01-01 12:00:00  1.710000  1.710000  0.129583\n",
       "2013-01-01 15:00:00  1.420000  1.420000  0.096333\n",
       "2013-01-01 18:00:00  1.178583  1.178583  0.083083\n",
       "2013-01-01 21:00:00  0.898250  0.898250  0.077167\n",
       "2013-01-02 00:00:00  0.860000  0.860000  0.075000"
      ]
     },
     "execution_count": 87,
     "metadata": {},
     "output_type": "execute_result"
    }
   ],
   "source": [
    "data.tail()"
   ]
  },
  {
   "cell_type": "markdown",
   "metadata": {},
   "source": [
    "# 如果想查看具体某一年的可以如下操作"
   ]
  },
  {
   "cell_type": "code",
   "execution_count": 89,
   "metadata": {},
   "outputs": [
    {
     "data": {
      "text/html": [
       "<div>\n",
       "<style scoped>\n",
       "    .dataframe tbody tr th:only-of-type {\n",
       "        vertical-align: middle;\n",
       "    }\n",
       "\n",
       "    .dataframe tbody tr th {\n",
       "        vertical-align: top;\n",
       "    }\n",
       "\n",
       "    .dataframe thead th {\n",
       "        text-align: right;\n",
       "    }\n",
       "</style>\n",
       "<table border=\"1\" class=\"dataframe\">\n",
       "  <thead>\n",
       "    <tr style=\"text-align: right;\">\n",
       "      <th></th>\n",
       "      <th>L06_347</th>\n",
       "      <th>LS06_347</th>\n",
       "      <th>LS06_348</th>\n",
       "    </tr>\n",
       "    <tr>\n",
       "      <th>Time</th>\n",
       "      <th></th>\n",
       "      <th></th>\n",
       "      <th></th>\n",
       "    </tr>\n",
       "  </thead>\n",
       "  <tbody>\n",
       "    <tr>\n",
       "      <th>2013-01-01 00:00:00</th>\n",
       "      <td>1.688333</td>\n",
       "      <td>1.688333</td>\n",
       "      <td>0.207333</td>\n",
       "    </tr>\n",
       "    <tr>\n",
       "      <th>2013-01-01 03:00:00</th>\n",
       "      <td>2.693333</td>\n",
       "      <td>2.693333</td>\n",
       "      <td>0.201500</td>\n",
       "    </tr>\n",
       "    <tr>\n",
       "      <th>2013-01-01 06:00:00</th>\n",
       "      <td>2.220833</td>\n",
       "      <td>2.220833</td>\n",
       "      <td>0.166917</td>\n",
       "    </tr>\n",
       "    <tr>\n",
       "      <th>2013-01-01 09:00:00</th>\n",
       "      <td>2.055000</td>\n",
       "      <td>2.055000</td>\n",
       "      <td>0.175667</td>\n",
       "    </tr>\n",
       "    <tr>\n",
       "      <th>2013-01-01 12:00:00</th>\n",
       "      <td>1.710000</td>\n",
       "      <td>1.710000</td>\n",
       "      <td>0.129583</td>\n",
       "    </tr>\n",
       "    <tr>\n",
       "      <th>2013-01-01 15:00:00</th>\n",
       "      <td>1.420000</td>\n",
       "      <td>1.420000</td>\n",
       "      <td>0.096333</td>\n",
       "    </tr>\n",
       "    <tr>\n",
       "      <th>2013-01-01 18:00:00</th>\n",
       "      <td>1.178583</td>\n",
       "      <td>1.178583</td>\n",
       "      <td>0.083083</td>\n",
       "    </tr>\n",
       "    <tr>\n",
       "      <th>2013-01-01 21:00:00</th>\n",
       "      <td>0.898250</td>\n",
       "      <td>0.898250</td>\n",
       "      <td>0.077167</td>\n",
       "    </tr>\n",
       "    <tr>\n",
       "      <th>2013-01-02 00:00:00</th>\n",
       "      <td>0.860000</td>\n",
       "      <td>0.860000</td>\n",
       "      <td>0.075000</td>\n",
       "    </tr>\n",
       "  </tbody>\n",
       "</table>\n",
       "</div>"
      ],
      "text/plain": [
       "                      L06_347  LS06_347  LS06_348\n",
       "Time                                             \n",
       "2013-01-01 00:00:00  1.688333  1.688333  0.207333\n",
       "2013-01-01 03:00:00  2.693333  2.693333  0.201500\n",
       "2013-01-01 06:00:00  2.220833  2.220833  0.166917\n",
       "2013-01-01 09:00:00  2.055000  2.055000  0.175667\n",
       "2013-01-01 12:00:00  1.710000  1.710000  0.129583\n",
       "2013-01-01 15:00:00  1.420000  1.420000  0.096333\n",
       "2013-01-01 18:00:00  1.178583  1.178583  0.083083\n",
       "2013-01-01 21:00:00  0.898250  0.898250  0.077167\n",
       "2013-01-02 00:00:00  0.860000  0.860000  0.075000"
      ]
     },
     "execution_count": 89,
     "metadata": {},
     "output_type": "execute_result"
    }
   ],
   "source": [
    "data['2013']"
   ]
  },
  {
   "cell_type": "code",
   "execution_count": 94,
   "metadata": {},
   "outputs": [
    {
     "data": {
      "text/plain": [
       "Int64Index([ 1,  1,  1,  1,  1,  1,  1,  1,  1,  1,\n",
       "            ...\n",
       "            12,  1,  1,  1,  1,  1,  1,  1,  1,  1],\n",
       "           dtype='int64', name='Time', length=11697)"
      ]
     },
     "execution_count": 94,
     "metadata": {},
     "output_type": "execute_result"
    }
   ],
   "source": [
    "data.index.month"
   ]
  },
  {
   "cell_type": "code",
   "execution_count": 96,
   "metadata": {},
   "outputs": [
    {
     "data": {
      "text/html": [
       "<div>\n",
       "<style scoped>\n",
       "    .dataframe tbody tr th:only-of-type {\n",
       "        vertical-align: middle;\n",
       "    }\n",
       "\n",
       "    .dataframe tbody tr th {\n",
       "        vertical-align: top;\n",
       "    }\n",
       "\n",
       "    .dataframe thead th {\n",
       "        text-align: right;\n",
       "    }\n",
       "</style>\n",
       "<table border=\"1\" class=\"dataframe\">\n",
       "  <thead>\n",
       "    <tr style=\"text-align: right;\">\n",
       "      <th></th>\n",
       "      <th>L06_347</th>\n",
       "      <th>LS06_347</th>\n",
       "      <th>LS06_348</th>\n",
       "    </tr>\n",
       "    <tr>\n",
       "      <th>Time</th>\n",
       "      <th></th>\n",
       "      <th></th>\n",
       "      <th></th>\n",
       "    </tr>\n",
       "  </thead>\n",
       "  <tbody>\n",
       "    <tr>\n",
       "      <th>2012-01-01 00:00:00</th>\n",
       "      <td>0.307167</td>\n",
       "      <td>0.273917</td>\n",
       "      <td>0.028000</td>\n",
       "    </tr>\n",
       "    <tr>\n",
       "      <th>2012-01-01 03:00:00</th>\n",
       "      <td>0.302917</td>\n",
       "      <td>0.270833</td>\n",
       "      <td>0.030583</td>\n",
       "    </tr>\n",
       "    <tr>\n",
       "      <th>2012-01-01 06:00:00</th>\n",
       "      <td>0.331500</td>\n",
       "      <td>0.284750</td>\n",
       "      <td>0.030917</td>\n",
       "    </tr>\n",
       "    <tr>\n",
       "      <th>2012-01-01 09:00:00</th>\n",
       "      <td>0.330750</td>\n",
       "      <td>0.293583</td>\n",
       "      <td>0.029750</td>\n",
       "    </tr>\n",
       "    <tr>\n",
       "      <th>2012-01-01 12:00:00</th>\n",
       "      <td>0.295000</td>\n",
       "      <td>0.285167</td>\n",
       "      <td>0.031750</td>\n",
       "    </tr>\n",
       "  </tbody>\n",
       "</table>\n",
       "</div>"
      ],
      "text/plain": [
       "                      L06_347  LS06_347  LS06_348\n",
       "Time                                             \n",
       "2012-01-01 00:00:00  0.307167  0.273917  0.028000\n",
       "2012-01-01 03:00:00  0.302917  0.270833  0.030583\n",
       "2012-01-01 06:00:00  0.331500  0.284750  0.030917\n",
       "2012-01-01 09:00:00  0.330750  0.293583  0.029750\n",
       "2012-01-01 12:00:00  0.295000  0.285167  0.031750"
      ]
     },
     "execution_count": 96,
     "metadata": {},
     "output_type": "execute_result"
    }
   ],
   "source": [
    "data['2012-01':'2012-02'][:5]"
   ]
  },
  {
   "cell_type": "code",
   "execution_count": 97,
   "metadata": {},
   "outputs": [
    {
     "data": {
      "text/html": [
       "<div>\n",
       "<style scoped>\n",
       "    .dataframe tbody tr th:only-of-type {\n",
       "        vertical-align: middle;\n",
       "    }\n",
       "\n",
       "    .dataframe tbody tr th {\n",
       "        vertical-align: top;\n",
       "    }\n",
       "\n",
       "    .dataframe thead th {\n",
       "        text-align: right;\n",
       "    }\n",
       "</style>\n",
       "<table border=\"1\" class=\"dataframe\">\n",
       "  <thead>\n",
       "    <tr style=\"text-align: right;\">\n",
       "      <th></th>\n",
       "      <th>L06_347</th>\n",
       "      <th>LS06_347</th>\n",
       "      <th>LS06_348</th>\n",
       "    </tr>\n",
       "    <tr>\n",
       "      <th>Time</th>\n",
       "      <th></th>\n",
       "      <th></th>\n",
       "      <th></th>\n",
       "    </tr>\n",
       "  </thead>\n",
       "  <tbody>\n",
       "    <tr>\n",
       "      <th>2009-01-01 00:00:00</th>\n",
       "      <td>0.137417</td>\n",
       "      <td>0.097500</td>\n",
       "      <td>0.016833</td>\n",
       "    </tr>\n",
       "    <tr>\n",
       "      <th>2009-01-01 03:00:00</th>\n",
       "      <td>0.131250</td>\n",
       "      <td>0.088833</td>\n",
       "      <td>0.016417</td>\n",
       "    </tr>\n",
       "    <tr>\n",
       "      <th>2009-01-01 06:00:00</th>\n",
       "      <td>0.113500</td>\n",
       "      <td>0.091250</td>\n",
       "      <td>0.016750</td>\n",
       "    </tr>\n",
       "    <tr>\n",
       "      <th>2009-01-01 09:00:00</th>\n",
       "      <td>0.135750</td>\n",
       "      <td>0.091500</td>\n",
       "      <td>0.016250</td>\n",
       "    </tr>\n",
       "    <tr>\n",
       "      <th>2009-01-01 12:00:00</th>\n",
       "      <td>0.140917</td>\n",
       "      <td>0.096167</td>\n",
       "      <td>0.017000</td>\n",
       "    </tr>\n",
       "  </tbody>\n",
       "</table>\n",
       "</div>"
      ],
      "text/plain": [
       "                      L06_347  LS06_347  LS06_348\n",
       "Time                                             \n",
       "2009-01-01 00:00:00  0.137417  0.097500  0.016833\n",
       "2009-01-01 03:00:00  0.131250  0.088833  0.016417\n",
       "2009-01-01 06:00:00  0.113500  0.091250  0.016750\n",
       "2009-01-01 09:00:00  0.135750  0.091500  0.016250\n",
       "2009-01-01 12:00:00  0.140917  0.096167  0.017000"
      ]
     },
     "execution_count": 97,
     "metadata": {},
     "output_type": "execute_result"
    }
   ],
   "source": [
    "data[data.index.month ==1][:5]"
   ]
  },
  {
   "cell_type": "code",
   "execution_count": 99,
   "metadata": {},
   "outputs": [
    {
     "data": {
      "text/html": [
       "<div>\n",
       "<style scoped>\n",
       "    .dataframe tbody tr th:only-of-type {\n",
       "        vertical-align: middle;\n",
       "    }\n",
       "\n",
       "    .dataframe tbody tr th {\n",
       "        vertical-align: top;\n",
       "    }\n",
       "\n",
       "    .dataframe thead th {\n",
       "        text-align: right;\n",
       "    }\n",
       "</style>\n",
       "<table border=\"1\" class=\"dataframe\">\n",
       "  <thead>\n",
       "    <tr style=\"text-align: right;\">\n",
       "      <th></th>\n",
       "      <th>L06_347</th>\n",
       "      <th>LS06_347</th>\n",
       "      <th>LS06_348</th>\n",
       "    </tr>\n",
       "    <tr>\n",
       "      <th>Time</th>\n",
       "      <th></th>\n",
       "      <th></th>\n",
       "      <th></th>\n",
       "    </tr>\n",
       "  </thead>\n",
       "  <tbody>\n",
       "    <tr>\n",
       "      <th>2009-01-01 09:00:00</th>\n",
       "      <td>0.135750</td>\n",
       "      <td>0.091500</td>\n",
       "      <td>0.016250</td>\n",
       "    </tr>\n",
       "    <tr>\n",
       "      <th>2009-01-02 09:00:00</th>\n",
       "      <td>0.141917</td>\n",
       "      <td>0.097083</td>\n",
       "      <td>0.016417</td>\n",
       "    </tr>\n",
       "    <tr>\n",
       "      <th>2009-01-03 09:00:00</th>\n",
       "      <td>0.124583</td>\n",
       "      <td>0.084417</td>\n",
       "      <td>0.015833</td>\n",
       "    </tr>\n",
       "    <tr>\n",
       "      <th>2009-01-04 09:00:00</th>\n",
       "      <td>0.109000</td>\n",
       "      <td>0.105167</td>\n",
       "      <td>0.018000</td>\n",
       "    </tr>\n",
       "    <tr>\n",
       "      <th>2009-01-05 09:00:00</th>\n",
       "      <td>0.161500</td>\n",
       "      <td>0.114583</td>\n",
       "      <td>0.021583</td>\n",
       "    </tr>\n",
       "  </tbody>\n",
       "</table>\n",
       "</div>"
      ],
      "text/plain": [
       "                      L06_347  LS06_347  LS06_348\n",
       "Time                                             \n",
       "2009-01-01 09:00:00  0.135750  0.091500  0.016250\n",
       "2009-01-02 09:00:00  0.141917  0.097083  0.016417\n",
       "2009-01-03 09:00:00  0.124583  0.084417  0.015833\n",
       "2009-01-04 09:00:00  0.109000  0.105167  0.018000\n",
       "2009-01-05 09:00:00  0.161500  0.114583  0.021583"
      ]
     },
     "execution_count": 99,
     "metadata": {},
     "output_type": "execute_result"
    }
   ],
   "source": [
    "data[(data.index.hour > 8) &(data.index.hour < 12)][:5]"
   ]
  },
  {
   "cell_type": "code",
   "execution_count": 103,
   "metadata": {},
   "outputs": [
    {
     "data": {
      "text/html": [
       "<div>\n",
       "<style scoped>\n",
       "    .dataframe tbody tr th:only-of-type {\n",
       "        vertical-align: middle;\n",
       "    }\n",
       "\n",
       "    .dataframe tbody tr th {\n",
       "        vertical-align: top;\n",
       "    }\n",
       "\n",
       "    .dataframe thead th {\n",
       "        text-align: right;\n",
       "    }\n",
       "</style>\n",
       "<table border=\"1\" class=\"dataframe\">\n",
       "  <thead>\n",
       "    <tr style=\"text-align: right;\">\n",
       "      <th></th>\n",
       "      <th>L06_347</th>\n",
       "      <th>LS06_347</th>\n",
       "      <th>LS06_348</th>\n",
       "    </tr>\n",
       "    <tr>\n",
       "      <th>Time</th>\n",
       "      <th></th>\n",
       "      <th></th>\n",
       "      <th></th>\n",
       "    </tr>\n",
       "  </thead>\n",
       "  <tbody>\n",
       "    <tr>\n",
       "      <th>2009-01-01 09:00:00</th>\n",
       "      <td>0.135750</td>\n",
       "      <td>0.091500</td>\n",
       "      <td>0.016250</td>\n",
       "    </tr>\n",
       "    <tr>\n",
       "      <th>2009-01-01 12:00:00</th>\n",
       "      <td>0.140917</td>\n",
       "      <td>0.096167</td>\n",
       "      <td>0.017000</td>\n",
       "    </tr>\n",
       "    <tr>\n",
       "      <th>2009-01-02 09:00:00</th>\n",
       "      <td>0.141917</td>\n",
       "      <td>0.097083</td>\n",
       "      <td>0.016417</td>\n",
       "    </tr>\n",
       "    <tr>\n",
       "      <th>2009-01-02 12:00:00</th>\n",
       "      <td>0.147833</td>\n",
       "      <td>0.101917</td>\n",
       "      <td>0.016417</td>\n",
       "    </tr>\n",
       "    <tr>\n",
       "      <th>2009-01-03 09:00:00</th>\n",
       "      <td>0.124583</td>\n",
       "      <td>0.084417</td>\n",
       "      <td>0.015833</td>\n",
       "    </tr>\n",
       "  </tbody>\n",
       "</table>\n",
       "</div>"
      ],
      "text/plain": [
       "                      L06_347  LS06_347  LS06_348\n",
       "Time                                             \n",
       "2009-01-01 09:00:00  0.135750  0.091500  0.016250\n",
       "2009-01-01 12:00:00  0.140917  0.096167  0.017000\n",
       "2009-01-02 09:00:00  0.141917  0.097083  0.016417\n",
       "2009-01-02 12:00:00  0.147833  0.101917  0.016417\n",
       "2009-01-03 09:00:00  0.124583  0.084417  0.015833"
      ]
     },
     "execution_count": 103,
     "metadata": {},
     "output_type": "execute_result"
    }
   ],
   "source": [
    "data.between_time('8:00','12:00')[:5]"
   ]
  },
  {
   "cell_type": "markdown",
   "metadata": {},
   "source": [
    "# 时间序列的重采样"
   ]
  },
  {
   "cell_type": "code",
   "execution_count": 104,
   "metadata": {},
   "outputs": [
    {
     "data": {
      "text/html": [
       "<div>\n",
       "<style scoped>\n",
       "    .dataframe tbody tr th:only-of-type {\n",
       "        vertical-align: middle;\n",
       "    }\n",
       "\n",
       "    .dataframe tbody tr th {\n",
       "        vertical-align: top;\n",
       "    }\n",
       "\n",
       "    .dataframe thead th {\n",
       "        text-align: right;\n",
       "    }\n",
       "</style>\n",
       "<table border=\"1\" class=\"dataframe\">\n",
       "  <thead>\n",
       "    <tr style=\"text-align: right;\">\n",
       "      <th></th>\n",
       "      <th>L06_347</th>\n",
       "      <th>LS06_347</th>\n",
       "      <th>LS06_348</th>\n",
       "    </tr>\n",
       "    <tr>\n",
       "      <th>Time</th>\n",
       "      <th></th>\n",
       "      <th></th>\n",
       "      <th></th>\n",
       "    </tr>\n",
       "  </thead>\n",
       "  <tbody>\n",
       "    <tr>\n",
       "      <th>2009-01-01</th>\n",
       "      <td>0.125010</td>\n",
       "      <td>0.092281</td>\n",
       "      <td>0.016635</td>\n",
       "    </tr>\n",
       "    <tr>\n",
       "      <th>2009-01-02</th>\n",
       "      <td>0.124146</td>\n",
       "      <td>0.095781</td>\n",
       "      <td>0.016406</td>\n",
       "    </tr>\n",
       "    <tr>\n",
       "      <th>2009-01-03</th>\n",
       "      <td>0.113562</td>\n",
       "      <td>0.085542</td>\n",
       "      <td>0.016094</td>\n",
       "    </tr>\n",
       "    <tr>\n",
       "      <th>2009-01-04</th>\n",
       "      <td>0.140198</td>\n",
       "      <td>0.102708</td>\n",
       "      <td>0.017323</td>\n",
       "    </tr>\n",
       "    <tr>\n",
       "      <th>2009-01-05</th>\n",
       "      <td>0.128812</td>\n",
       "      <td>0.104490</td>\n",
       "      <td>0.018167</td>\n",
       "    </tr>\n",
       "  </tbody>\n",
       "</table>\n",
       "</div>"
      ],
      "text/plain": [
       "             L06_347  LS06_347  LS06_348\n",
       "Time                                    \n",
       "2009-01-01  0.125010  0.092281  0.016635\n",
       "2009-01-02  0.124146  0.095781  0.016406\n",
       "2009-01-03  0.113562  0.085542  0.016094\n",
       "2009-01-04  0.140198  0.102708  0.017323\n",
       "2009-01-05  0.128812  0.104490  0.018167"
      ]
     },
     "execution_count": 104,
     "metadata": {},
     "output_type": "execute_result"
    }
   ],
   "source": [
    "data.resample('D').mean().head()"
   ]
  },
  {
   "cell_type": "markdown",
   "metadata": {},
   "source": [
    "# 这个挺难啊\n",
    "# data.resample('D')               (D 是对天的操作)\n",
    "\n",
    "# 重采样时将每一天的进行了统计"
   ]
  },
  {
   "cell_type": "code",
   "execution_count": 105,
   "metadata": {},
   "outputs": [
    {
     "data": {
      "text/html": [
       "<div>\n",
       "<style scoped>\n",
       "    .dataframe tbody tr th:only-of-type {\n",
       "        vertical-align: middle;\n",
       "    }\n",
       "\n",
       "    .dataframe tbody tr th {\n",
       "        vertical-align: top;\n",
       "    }\n",
       "\n",
       "    .dataframe thead th {\n",
       "        text-align: right;\n",
       "    }\n",
       "</style>\n",
       "<table border=\"1\" class=\"dataframe\">\n",
       "  <thead>\n",
       "    <tr style=\"text-align: right;\">\n",
       "      <th></th>\n",
       "      <th>L06_347</th>\n",
       "      <th>LS06_347</th>\n",
       "      <th>LS06_348</th>\n",
       "    </tr>\n",
       "    <tr>\n",
       "      <th>Time</th>\n",
       "      <th></th>\n",
       "      <th></th>\n",
       "      <th></th>\n",
       "    </tr>\n",
       "  </thead>\n",
       "  <tbody>\n",
       "    <tr>\n",
       "      <th>2009-01-31</th>\n",
       "      <td>0.517864</td>\n",
       "      <td>0.536660</td>\n",
       "      <td>0.045597</td>\n",
       "    </tr>\n",
       "    <tr>\n",
       "      <th>2009-02-28</th>\n",
       "      <td>0.516847</td>\n",
       "      <td>0.529987</td>\n",
       "      <td>0.047238</td>\n",
       "    </tr>\n",
       "    <tr>\n",
       "      <th>2009-03-31</th>\n",
       "      <td>0.373157</td>\n",
       "      <td>0.383172</td>\n",
       "      <td>0.037508</td>\n",
       "    </tr>\n",
       "    <tr>\n",
       "      <th>2009-04-30</th>\n",
       "      <td>0.163182</td>\n",
       "      <td>0.129354</td>\n",
       "      <td>0.021356</td>\n",
       "    </tr>\n",
       "    <tr>\n",
       "      <th>2009-05-31</th>\n",
       "      <td>0.178588</td>\n",
       "      <td>0.160616</td>\n",
       "      <td>0.020744</td>\n",
       "    </tr>\n",
       "  </tbody>\n",
       "</table>\n",
       "</div>"
      ],
      "text/plain": [
       "             L06_347  LS06_347  LS06_348\n",
       "Time                                    \n",
       "2009-01-31  0.517864  0.536660  0.045597\n",
       "2009-02-28  0.516847  0.529987  0.047238\n",
       "2009-03-31  0.373157  0.383172  0.037508\n",
       "2009-04-30  0.163182  0.129354  0.021356\n",
       "2009-05-31  0.178588  0.160616  0.020744"
      ]
     },
     "execution_count": 105,
     "metadata": {},
     "output_type": "execute_result"
    }
   ],
   "source": [
    "data.resample('M').mean().head()"
   ]
  },
  {
   "cell_type": "code",
   "execution_count": 106,
   "metadata": {},
   "outputs": [
    {
     "data": {
      "text/html": [
       "<div>\n",
       "<style scoped>\n",
       "    .dataframe tbody tr th:only-of-type {\n",
       "        vertical-align: middle;\n",
       "    }\n",
       "\n",
       "    .dataframe tbody tr th {\n",
       "        vertical-align: top;\n",
       "    }\n",
       "\n",
       "    .dataframe thead th {\n",
       "        text-align: right;\n",
       "    }\n",
       "</style>\n",
       "<table border=\"1\" class=\"dataframe\">\n",
       "  <thead>\n",
       "    <tr style=\"text-align: right;\">\n",
       "      <th></th>\n",
       "      <th>L06_347</th>\n",
       "      <th>LS06_347</th>\n",
       "      <th>LS06_348</th>\n",
       "    </tr>\n",
       "    <tr>\n",
       "      <th>Time</th>\n",
       "      <th></th>\n",
       "      <th></th>\n",
       "      <th></th>\n",
       "    </tr>\n",
       "  </thead>\n",
       "  <tbody>\n",
       "    <tr>\n",
       "      <th>2009-01-31</th>\n",
       "      <td>9.046667</td>\n",
       "      <td>9.353333</td>\n",
       "      <td>0.637500</td>\n",
       "    </tr>\n",
       "    <tr>\n",
       "      <th>2009-02-28</th>\n",
       "      <td>5.978333</td>\n",
       "      <td>6.283333</td>\n",
       "      <td>0.432167</td>\n",
       "    </tr>\n",
       "    <tr>\n",
       "      <th>2009-03-31</th>\n",
       "      <td>2.485000</td>\n",
       "      <td>2.708333</td>\n",
       "      <td>0.189667</td>\n",
       "    </tr>\n",
       "    <tr>\n",
       "      <th>2009-04-30</th>\n",
       "      <td>0.424833</td>\n",
       "      <td>0.437083</td>\n",
       "      <td>0.079917</td>\n",
       "    </tr>\n",
       "    <tr>\n",
       "      <th>2009-05-31</th>\n",
       "      <td>5.990833</td>\n",
       "      <td>6.295833</td>\n",
       "      <td>0.569083</td>\n",
       "    </tr>\n",
       "  </tbody>\n",
       "</table>\n",
       "</div>"
      ],
      "text/plain": [
       "             L06_347  LS06_347  LS06_348\n",
       "Time                                    \n",
       "2009-01-31  9.046667  9.353333  0.637500\n",
       "2009-02-28  5.978333  6.283333  0.432167\n",
       "2009-03-31  2.485000  2.708333  0.189667\n",
       "2009-04-30  0.424833  0.437083  0.079917\n",
       "2009-05-31  5.990833  6.295833  0.569083"
      ]
     },
     "execution_count": 106,
     "metadata": {},
     "output_type": "execute_result"
    }
   ],
   "source": [
    "data.resample('M').max().head()"
   ]
  },
  {
   "cell_type": "code",
   "execution_count": 107,
   "metadata": {},
   "outputs": [
    {
     "data": {
      "text/html": [
       "<div>\n",
       "<style scoped>\n",
       "    .dataframe tbody tr th:only-of-type {\n",
       "        vertical-align: middle;\n",
       "    }\n",
       "\n",
       "    .dataframe tbody tr th {\n",
       "        vertical-align: top;\n",
       "    }\n",
       "\n",
       "    .dataframe thead th {\n",
       "        text-align: right;\n",
       "    }\n",
       "</style>\n",
       "<table border=\"1\" class=\"dataframe\">\n",
       "  <thead>\n",
       "    <tr style=\"text-align: right;\">\n",
       "      <th></th>\n",
       "      <th>L06_347</th>\n",
       "      <th>LS06_347</th>\n",
       "      <th>LS06_348</th>\n",
       "    </tr>\n",
       "    <tr>\n",
       "      <th>Time</th>\n",
       "      <th></th>\n",
       "      <th></th>\n",
       "      <th></th>\n",
       "    </tr>\n",
       "  </thead>\n",
       "  <tbody>\n",
       "    <tr>\n",
       "      <th>2009-01-31</th>\n",
       "      <td>9.046667</td>\n",
       "      <td>9.353333</td>\n",
       "      <td>0.637500</td>\n",
       "    </tr>\n",
       "    <tr>\n",
       "      <th>2009-04-30</th>\n",
       "      <td>5.978333</td>\n",
       "      <td>6.283333</td>\n",
       "      <td>0.432167</td>\n",
       "    </tr>\n",
       "    <tr>\n",
       "      <th>2009-07-31</th>\n",
       "      <td>5.990833</td>\n",
       "      <td>6.295833</td>\n",
       "      <td>0.569083</td>\n",
       "    </tr>\n",
       "    <tr>\n",
       "      <th>2009-10-31</th>\n",
       "      <td>1.422833</td>\n",
       "      <td>1.951667</td>\n",
       "      <td>0.209500</td>\n",
       "    </tr>\n",
       "    <tr>\n",
       "      <th>2010-01-31</th>\n",
       "      <td>2.440000</td>\n",
       "      <td>2.975833</td>\n",
       "      <td>0.227917</td>\n",
       "    </tr>\n",
       "  </tbody>\n",
       "</table>\n",
       "</div>"
      ],
      "text/plain": [
       "             L06_347  LS06_347  LS06_348\n",
       "Time                                    \n",
       "2009-01-31  9.046667  9.353333  0.637500\n",
       "2009-04-30  5.978333  6.283333  0.432167\n",
       "2009-07-31  5.990833  6.295833  0.569083\n",
       "2009-10-31  1.422833  1.951667  0.209500\n",
       "2010-01-31  2.440000  2.975833  0.227917"
      ]
     },
     "execution_count": 107,
     "metadata": {},
     "output_type": "execute_result"
    }
   ],
   "source": [
    "data.resample('3M').max().head()"
   ]
  },
  {
   "cell_type": "code",
   "execution_count": 109,
   "metadata": {},
   "outputs": [
    {
     "data": {
      "application/javascript": [
       "/* Put everything inside the global mpl namespace */\n",
       "window.mpl = {};\n",
       "\n",
       "\n",
       "mpl.get_websocket_type = function() {\n",
       "    if (typeof(WebSocket) !== 'undefined') {\n",
       "        return WebSocket;\n",
       "    } else if (typeof(MozWebSocket) !== 'undefined') {\n",
       "        return MozWebSocket;\n",
       "    } else {\n",
       "        alert('Your browser does not have WebSocket support.' +\n",
       "              'Please try Chrome, Safari or Firefox ≥ 6. ' +\n",
       "              'Firefox 4 and 5 are also supported but you ' +\n",
       "              'have to enable WebSockets in about:config.');\n",
       "    };\n",
       "}\n",
       "\n",
       "mpl.figure = function(figure_id, websocket, ondownload, parent_element) {\n",
       "    this.id = figure_id;\n",
       "\n",
       "    this.ws = websocket;\n",
       "\n",
       "    this.supports_binary = (this.ws.binaryType != undefined);\n",
       "\n",
       "    if (!this.supports_binary) {\n",
       "        var warnings = document.getElementById(\"mpl-warnings\");\n",
       "        if (warnings) {\n",
       "            warnings.style.display = 'block';\n",
       "            warnings.textContent = (\n",
       "                \"This browser does not support binary websocket messages. \" +\n",
       "                    \"Performance may be slow.\");\n",
       "        }\n",
       "    }\n",
       "\n",
       "    this.imageObj = new Image();\n",
       "\n",
       "    this.context = undefined;\n",
       "    this.message = undefined;\n",
       "    this.canvas = undefined;\n",
       "    this.rubberband_canvas = undefined;\n",
       "    this.rubberband_context = undefined;\n",
       "    this.format_dropdown = undefined;\n",
       "\n",
       "    this.image_mode = 'full';\n",
       "\n",
       "    this.root = $('<div/>');\n",
       "    this._root_extra_style(this.root)\n",
       "    this.root.attr('style', 'display: inline-block');\n",
       "\n",
       "    $(parent_element).append(this.root);\n",
       "\n",
       "    this._init_header(this);\n",
       "    this._init_canvas(this);\n",
       "    this._init_toolbar(this);\n",
       "\n",
       "    var fig = this;\n",
       "\n",
       "    this.waiting = false;\n",
       "\n",
       "    this.ws.onopen =  function () {\n",
       "            fig.send_message(\"supports_binary\", {value: fig.supports_binary});\n",
       "            fig.send_message(\"send_image_mode\", {});\n",
       "            if (mpl.ratio != 1) {\n",
       "                fig.send_message(\"set_dpi_ratio\", {'dpi_ratio': mpl.ratio});\n",
       "            }\n",
       "            fig.send_message(\"refresh\", {});\n",
       "        }\n",
       "\n",
       "    this.imageObj.onload = function() {\n",
       "            if (fig.image_mode == 'full') {\n",
       "                // Full images could contain transparency (where diff images\n",
       "                // almost always do), so we need to clear the canvas so that\n",
       "                // there is no ghosting.\n",
       "                fig.context.clearRect(0, 0, fig.canvas.width, fig.canvas.height);\n",
       "            }\n",
       "            fig.context.drawImage(fig.imageObj, 0, 0);\n",
       "        };\n",
       "\n",
       "    this.imageObj.onunload = function() {\n",
       "        fig.ws.close();\n",
       "    }\n",
       "\n",
       "    this.ws.onmessage = this._make_on_message_function(this);\n",
       "\n",
       "    this.ondownload = ondownload;\n",
       "}\n",
       "\n",
       "mpl.figure.prototype._init_header = function() {\n",
       "    var titlebar = $(\n",
       "        '<div class=\"ui-dialog-titlebar ui-widget-header ui-corner-all ' +\n",
       "        'ui-helper-clearfix\"/>');\n",
       "    var titletext = $(\n",
       "        '<div class=\"ui-dialog-title\" style=\"width: 100%; ' +\n",
       "        'text-align: center; padding: 3px;\"/>');\n",
       "    titlebar.append(titletext)\n",
       "    this.root.append(titlebar);\n",
       "    this.header = titletext[0];\n",
       "}\n",
       "\n",
       "\n",
       "\n",
       "mpl.figure.prototype._canvas_extra_style = function(canvas_div) {\n",
       "\n",
       "}\n",
       "\n",
       "\n",
       "mpl.figure.prototype._root_extra_style = function(canvas_div) {\n",
       "\n",
       "}\n",
       "\n",
       "mpl.figure.prototype._init_canvas = function() {\n",
       "    var fig = this;\n",
       "\n",
       "    var canvas_div = $('<div/>');\n",
       "\n",
       "    canvas_div.attr('style', 'position: relative; clear: both; outline: 0');\n",
       "\n",
       "    function canvas_keyboard_event(event) {\n",
       "        return fig.key_event(event, event['data']);\n",
       "    }\n",
       "\n",
       "    canvas_div.keydown('key_press', canvas_keyboard_event);\n",
       "    canvas_div.keyup('key_release', canvas_keyboard_event);\n",
       "    this.canvas_div = canvas_div\n",
       "    this._canvas_extra_style(canvas_div)\n",
       "    this.root.append(canvas_div);\n",
       "\n",
       "    var canvas = $('<canvas/>');\n",
       "    canvas.addClass('mpl-canvas');\n",
       "    canvas.attr('style', \"left: 0; top: 0; z-index: 0; outline: 0\")\n",
       "\n",
       "    this.canvas = canvas[0];\n",
       "    this.context = canvas[0].getContext(\"2d\");\n",
       "\n",
       "    var backingStore = this.context.backingStorePixelRatio ||\n",
       "\tthis.context.webkitBackingStorePixelRatio ||\n",
       "\tthis.context.mozBackingStorePixelRatio ||\n",
       "\tthis.context.msBackingStorePixelRatio ||\n",
       "\tthis.context.oBackingStorePixelRatio ||\n",
       "\tthis.context.backingStorePixelRatio || 1;\n",
       "\n",
       "    mpl.ratio = (window.devicePixelRatio || 1) / backingStore;\n",
       "\n",
       "    var rubberband = $('<canvas/>');\n",
       "    rubberband.attr('style', \"position: absolute; left: 0; top: 0; z-index: 1;\")\n",
       "\n",
       "    var pass_mouse_events = true;\n",
       "\n",
       "    canvas_div.resizable({\n",
       "        start: function(event, ui) {\n",
       "            pass_mouse_events = false;\n",
       "        },\n",
       "        resize: function(event, ui) {\n",
       "            fig.request_resize(ui.size.width, ui.size.height);\n",
       "        },\n",
       "        stop: function(event, ui) {\n",
       "            pass_mouse_events = true;\n",
       "            fig.request_resize(ui.size.width, ui.size.height);\n",
       "        },\n",
       "    });\n",
       "\n",
       "    function mouse_event_fn(event) {\n",
       "        if (pass_mouse_events)\n",
       "            return fig.mouse_event(event, event['data']);\n",
       "    }\n",
       "\n",
       "    rubberband.mousedown('button_press', mouse_event_fn);\n",
       "    rubberband.mouseup('button_release', mouse_event_fn);\n",
       "    // Throttle sequential mouse events to 1 every 20ms.\n",
       "    rubberband.mousemove('motion_notify', mouse_event_fn);\n",
       "\n",
       "    rubberband.mouseenter('figure_enter', mouse_event_fn);\n",
       "    rubberband.mouseleave('figure_leave', mouse_event_fn);\n",
       "\n",
       "    canvas_div.on(\"wheel\", function (event) {\n",
       "        event = event.originalEvent;\n",
       "        event['data'] = 'scroll'\n",
       "        if (event.deltaY < 0) {\n",
       "            event.step = 1;\n",
       "        } else {\n",
       "            event.step = -1;\n",
       "        }\n",
       "        mouse_event_fn(event);\n",
       "    });\n",
       "\n",
       "    canvas_div.append(canvas);\n",
       "    canvas_div.append(rubberband);\n",
       "\n",
       "    this.rubberband = rubberband;\n",
       "    this.rubberband_canvas = rubberband[0];\n",
       "    this.rubberband_context = rubberband[0].getContext(\"2d\");\n",
       "    this.rubberband_context.strokeStyle = \"#000000\";\n",
       "\n",
       "    this._resize_canvas = function(width, height) {\n",
       "        // Keep the size of the canvas, canvas container, and rubber band\n",
       "        // canvas in synch.\n",
       "        canvas_div.css('width', width)\n",
       "        canvas_div.css('height', height)\n",
       "\n",
       "        canvas.attr('width', width * mpl.ratio);\n",
       "        canvas.attr('height', height * mpl.ratio);\n",
       "        canvas.attr('style', 'width: ' + width + 'px; height: ' + height + 'px;');\n",
       "\n",
       "        rubberband.attr('width', width);\n",
       "        rubberband.attr('height', height);\n",
       "    }\n",
       "\n",
       "    // Set the figure to an initial 600x600px, this will subsequently be updated\n",
       "    // upon first draw.\n",
       "    this._resize_canvas(600, 600);\n",
       "\n",
       "    // Disable right mouse context menu.\n",
       "    $(this.rubberband_canvas).bind(\"contextmenu\",function(e){\n",
       "        return false;\n",
       "    });\n",
       "\n",
       "    function set_focus () {\n",
       "        canvas.focus();\n",
       "        canvas_div.focus();\n",
       "    }\n",
       "\n",
       "    window.setTimeout(set_focus, 100);\n",
       "}\n",
       "\n",
       "mpl.figure.prototype._init_toolbar = function() {\n",
       "    var fig = this;\n",
       "\n",
       "    var nav_element = $('<div/>')\n",
       "    nav_element.attr('style', 'width: 100%');\n",
       "    this.root.append(nav_element);\n",
       "\n",
       "    // Define a callback function for later on.\n",
       "    function toolbar_event(event) {\n",
       "        return fig.toolbar_button_onclick(event['data']);\n",
       "    }\n",
       "    function toolbar_mouse_event(event) {\n",
       "        return fig.toolbar_button_onmouseover(event['data']);\n",
       "    }\n",
       "\n",
       "    for(var toolbar_ind in mpl.toolbar_items) {\n",
       "        var name = mpl.toolbar_items[toolbar_ind][0];\n",
       "        var tooltip = mpl.toolbar_items[toolbar_ind][1];\n",
       "        var image = mpl.toolbar_items[toolbar_ind][2];\n",
       "        var method_name = mpl.toolbar_items[toolbar_ind][3];\n",
       "\n",
       "        if (!name) {\n",
       "            // put a spacer in here.\n",
       "            continue;\n",
       "        }\n",
       "        var button = $('<button/>');\n",
       "        button.addClass('ui-button ui-widget ui-state-default ui-corner-all ' +\n",
       "                        'ui-button-icon-only');\n",
       "        button.attr('role', 'button');\n",
       "        button.attr('aria-disabled', 'false');\n",
       "        button.click(method_name, toolbar_event);\n",
       "        button.mouseover(tooltip, toolbar_mouse_event);\n",
       "\n",
       "        var icon_img = $('<span/>');\n",
       "        icon_img.addClass('ui-button-icon-primary ui-icon');\n",
       "        icon_img.addClass(image);\n",
       "        icon_img.addClass('ui-corner-all');\n",
       "\n",
       "        var tooltip_span = $('<span/>');\n",
       "        tooltip_span.addClass('ui-button-text');\n",
       "        tooltip_span.html(tooltip);\n",
       "\n",
       "        button.append(icon_img);\n",
       "        button.append(tooltip_span);\n",
       "\n",
       "        nav_element.append(button);\n",
       "    }\n",
       "\n",
       "    var fmt_picker_span = $('<span/>');\n",
       "\n",
       "    var fmt_picker = $('<select/>');\n",
       "    fmt_picker.addClass('mpl-toolbar-option ui-widget ui-widget-content');\n",
       "    fmt_picker_span.append(fmt_picker);\n",
       "    nav_element.append(fmt_picker_span);\n",
       "    this.format_dropdown = fmt_picker[0];\n",
       "\n",
       "    for (var ind in mpl.extensions) {\n",
       "        var fmt = mpl.extensions[ind];\n",
       "        var option = $(\n",
       "            '<option/>', {selected: fmt === mpl.default_extension}).html(fmt);\n",
       "        fmt_picker.append(option)\n",
       "    }\n",
       "\n",
       "    // Add hover states to the ui-buttons\n",
       "    $( \".ui-button\" ).hover(\n",
       "        function() { $(this).addClass(\"ui-state-hover\");},\n",
       "        function() { $(this).removeClass(\"ui-state-hover\");}\n",
       "    );\n",
       "\n",
       "    var status_bar = $('<span class=\"mpl-message\"/>');\n",
       "    nav_element.append(status_bar);\n",
       "    this.message = status_bar[0];\n",
       "}\n",
       "\n",
       "mpl.figure.prototype.request_resize = function(x_pixels, y_pixels) {\n",
       "    // Request matplotlib to resize the figure. Matplotlib will then trigger a resize in the client,\n",
       "    // which will in turn request a refresh of the image.\n",
       "    this.send_message('resize', {'width': x_pixels, 'height': y_pixels});\n",
       "}\n",
       "\n",
       "mpl.figure.prototype.send_message = function(type, properties) {\n",
       "    properties['type'] = type;\n",
       "    properties['figure_id'] = this.id;\n",
       "    this.ws.send(JSON.stringify(properties));\n",
       "}\n",
       "\n",
       "mpl.figure.prototype.send_draw_message = function() {\n",
       "    if (!this.waiting) {\n",
       "        this.waiting = true;\n",
       "        this.ws.send(JSON.stringify({type: \"draw\", figure_id: this.id}));\n",
       "    }\n",
       "}\n",
       "\n",
       "\n",
       "mpl.figure.prototype.handle_save = function(fig, msg) {\n",
       "    var format_dropdown = fig.format_dropdown;\n",
       "    var format = format_dropdown.options[format_dropdown.selectedIndex].value;\n",
       "    fig.ondownload(fig, format);\n",
       "}\n",
       "\n",
       "\n",
       "mpl.figure.prototype.handle_resize = function(fig, msg) {\n",
       "    var size = msg['size'];\n",
       "    if (size[0] != fig.canvas.width || size[1] != fig.canvas.height) {\n",
       "        fig._resize_canvas(size[0], size[1]);\n",
       "        fig.send_message(\"refresh\", {});\n",
       "    };\n",
       "}\n",
       "\n",
       "mpl.figure.prototype.handle_rubberband = function(fig, msg) {\n",
       "    var x0 = msg['x0'] / mpl.ratio;\n",
       "    var y0 = (fig.canvas.height - msg['y0']) / mpl.ratio;\n",
       "    var x1 = msg['x1'] / mpl.ratio;\n",
       "    var y1 = (fig.canvas.height - msg['y1']) / mpl.ratio;\n",
       "    x0 = Math.floor(x0) + 0.5;\n",
       "    y0 = Math.floor(y0) + 0.5;\n",
       "    x1 = Math.floor(x1) + 0.5;\n",
       "    y1 = Math.floor(y1) + 0.5;\n",
       "    var min_x = Math.min(x0, x1);\n",
       "    var min_y = Math.min(y0, y1);\n",
       "    var width = Math.abs(x1 - x0);\n",
       "    var height = Math.abs(y1 - y0);\n",
       "\n",
       "    fig.rubberband_context.clearRect(\n",
       "        0, 0, fig.canvas.width, fig.canvas.height);\n",
       "\n",
       "    fig.rubberband_context.strokeRect(min_x, min_y, width, height);\n",
       "}\n",
       "\n",
       "mpl.figure.prototype.handle_figure_label = function(fig, msg) {\n",
       "    // Updates the figure title.\n",
       "    fig.header.textContent = msg['label'];\n",
       "}\n",
       "\n",
       "mpl.figure.prototype.handle_cursor = function(fig, msg) {\n",
       "    var cursor = msg['cursor'];\n",
       "    switch(cursor)\n",
       "    {\n",
       "    case 0:\n",
       "        cursor = 'pointer';\n",
       "        break;\n",
       "    case 1:\n",
       "        cursor = 'default';\n",
       "        break;\n",
       "    case 2:\n",
       "        cursor = 'crosshair';\n",
       "        break;\n",
       "    case 3:\n",
       "        cursor = 'move';\n",
       "        break;\n",
       "    }\n",
       "    fig.rubberband_canvas.style.cursor = cursor;\n",
       "}\n",
       "\n",
       "mpl.figure.prototype.handle_message = function(fig, msg) {\n",
       "    fig.message.textContent = msg['message'];\n",
       "}\n",
       "\n",
       "mpl.figure.prototype.handle_draw = function(fig, msg) {\n",
       "    // Request the server to send over a new figure.\n",
       "    fig.send_draw_message();\n",
       "}\n",
       "\n",
       "mpl.figure.prototype.handle_image_mode = function(fig, msg) {\n",
       "    fig.image_mode = msg['mode'];\n",
       "}\n",
       "\n",
       "mpl.figure.prototype.updated_canvas_event = function() {\n",
       "    // Called whenever the canvas gets updated.\n",
       "    this.send_message(\"ack\", {});\n",
       "}\n",
       "\n",
       "// A function to construct a web socket function for onmessage handling.\n",
       "// Called in the figure constructor.\n",
       "mpl.figure.prototype._make_on_message_function = function(fig) {\n",
       "    return function socket_on_message(evt) {\n",
       "        if (evt.data instanceof Blob) {\n",
       "            /* FIXME: We get \"Resource interpreted as Image but\n",
       "             * transferred with MIME type text/plain:\" errors on\n",
       "             * Chrome.  But how to set the MIME type?  It doesn't seem\n",
       "             * to be part of the websocket stream */\n",
       "            evt.data.type = \"image/png\";\n",
       "\n",
       "            /* Free the memory for the previous frames */\n",
       "            if (fig.imageObj.src) {\n",
       "                (window.URL || window.webkitURL).revokeObjectURL(\n",
       "                    fig.imageObj.src);\n",
       "            }\n",
       "\n",
       "            fig.imageObj.src = (window.URL || window.webkitURL).createObjectURL(\n",
       "                evt.data);\n",
       "            fig.updated_canvas_event();\n",
       "            fig.waiting = false;\n",
       "            return;\n",
       "        }\n",
       "        else if (typeof evt.data === 'string' && evt.data.slice(0, 21) == \"data:image/png;base64\") {\n",
       "            fig.imageObj.src = evt.data;\n",
       "            fig.updated_canvas_event();\n",
       "            fig.waiting = false;\n",
       "            return;\n",
       "        }\n",
       "\n",
       "        var msg = JSON.parse(evt.data);\n",
       "        var msg_type = msg['type'];\n",
       "\n",
       "        // Call the  \"handle_{type}\" callback, which takes\n",
       "        // the figure and JSON message as its only arguments.\n",
       "        try {\n",
       "            var callback = fig[\"handle_\" + msg_type];\n",
       "        } catch (e) {\n",
       "            console.log(\"No handler for the '\" + msg_type + \"' message type: \", msg);\n",
       "            return;\n",
       "        }\n",
       "\n",
       "        if (callback) {\n",
       "            try {\n",
       "                // console.log(\"Handling '\" + msg_type + \"' message: \", msg);\n",
       "                callback(fig, msg);\n",
       "            } catch (e) {\n",
       "                console.log(\"Exception inside the 'handler_\" + msg_type + \"' callback:\", e, e.stack, msg);\n",
       "            }\n",
       "        }\n",
       "    };\n",
       "}\n",
       "\n",
       "// from http://stackoverflow.com/questions/1114465/getting-mouse-location-in-canvas\n",
       "mpl.findpos = function(e) {\n",
       "    //this section is from http://www.quirksmode.org/js/events_properties.html\n",
       "    var targ;\n",
       "    if (!e)\n",
       "        e = window.event;\n",
       "    if (e.target)\n",
       "        targ = e.target;\n",
       "    else if (e.srcElement)\n",
       "        targ = e.srcElement;\n",
       "    if (targ.nodeType == 3) // defeat Safari bug\n",
       "        targ = targ.parentNode;\n",
       "\n",
       "    // jQuery normalizes the pageX and pageY\n",
       "    // pageX,Y are the mouse positions relative to the document\n",
       "    // offset() returns the position of the element relative to the document\n",
       "    var x = e.pageX - $(targ).offset().left;\n",
       "    var y = e.pageY - $(targ).offset().top;\n",
       "\n",
       "    return {\"x\": x, \"y\": y};\n",
       "};\n",
       "\n",
       "/*\n",
       " * return a copy of an object with only non-object keys\n",
       " * we need this to avoid circular references\n",
       " * http://stackoverflow.com/a/24161582/3208463\n",
       " */\n",
       "function simpleKeys (original) {\n",
       "  return Object.keys(original).reduce(function (obj, key) {\n",
       "    if (typeof original[key] !== 'object')\n",
       "        obj[key] = original[key]\n",
       "    return obj;\n",
       "  }, {});\n",
       "}\n",
       "\n",
       "mpl.figure.prototype.mouse_event = function(event, name) {\n",
       "    var canvas_pos = mpl.findpos(event)\n",
       "\n",
       "    if (name === 'button_press')\n",
       "    {\n",
       "        this.canvas.focus();\n",
       "        this.canvas_div.focus();\n",
       "    }\n",
       "\n",
       "    var x = canvas_pos.x * mpl.ratio;\n",
       "    var y = canvas_pos.y * mpl.ratio;\n",
       "\n",
       "    this.send_message(name, {x: x, y: y, button: event.button,\n",
       "                             step: event.step,\n",
       "                             guiEvent: simpleKeys(event)});\n",
       "\n",
       "    /* This prevents the web browser from automatically changing to\n",
       "     * the text insertion cursor when the button is pressed.  We want\n",
       "     * to control all of the cursor setting manually through the\n",
       "     * 'cursor' event from matplotlib */\n",
       "    event.preventDefault();\n",
       "    return false;\n",
       "}\n",
       "\n",
       "mpl.figure.prototype._key_event_extra = function(event, name) {\n",
       "    // Handle any extra behaviour associated with a key event\n",
       "}\n",
       "\n",
       "mpl.figure.prototype.key_event = function(event, name) {\n",
       "\n",
       "    // Prevent repeat events\n",
       "    if (name == 'key_press')\n",
       "    {\n",
       "        if (event.which === this._key)\n",
       "            return;\n",
       "        else\n",
       "            this._key = event.which;\n",
       "    }\n",
       "    if (name == 'key_release')\n",
       "        this._key = null;\n",
       "\n",
       "    var value = '';\n",
       "    if (event.ctrlKey && event.which != 17)\n",
       "        value += \"ctrl+\";\n",
       "    if (event.altKey && event.which != 18)\n",
       "        value += \"alt+\";\n",
       "    if (event.shiftKey && event.which != 16)\n",
       "        value += \"shift+\";\n",
       "\n",
       "    value += 'k';\n",
       "    value += event.which.toString();\n",
       "\n",
       "    this._key_event_extra(event, name);\n",
       "\n",
       "    this.send_message(name, {key: value,\n",
       "                             guiEvent: simpleKeys(event)});\n",
       "    return false;\n",
       "}\n",
       "\n",
       "mpl.figure.prototype.toolbar_button_onclick = function(name) {\n",
       "    if (name == 'download') {\n",
       "        this.handle_save(this, null);\n",
       "    } else {\n",
       "        this.send_message(\"toolbar_button\", {name: name});\n",
       "    }\n",
       "};\n",
       "\n",
       "mpl.figure.prototype.toolbar_button_onmouseover = function(tooltip) {\n",
       "    this.message.textContent = tooltip;\n",
       "};\n",
       "mpl.toolbar_items = [[\"Home\", \"Reset original view\", \"fa fa-home icon-home\", \"home\"], [\"Back\", \"Back to previous view\", \"fa fa-arrow-left icon-arrow-left\", \"back\"], [\"Forward\", \"Forward to next view\", \"fa fa-arrow-right icon-arrow-right\", \"forward\"], [\"\", \"\", \"\", \"\"], [\"Pan\", \"Pan axes with left mouse, zoom with right\", \"fa fa-arrows icon-move\", \"pan\"], [\"Zoom\", \"Zoom to rectangle\", \"fa fa-square-o icon-check-empty\", \"zoom\"], [\"\", \"\", \"\", \"\"], [\"Download\", \"Download plot\", \"fa fa-floppy-o icon-save\", \"download\"]];\n",
       "\n",
       "mpl.extensions = [\"eps\", \"jpeg\", \"pdf\", \"png\", \"ps\", \"raw\", \"svg\", \"tif\"];\n",
       "\n",
       "mpl.default_extension = \"png\";var comm_websocket_adapter = function(comm) {\n",
       "    // Create a \"websocket\"-like object which calls the given IPython comm\n",
       "    // object with the appropriate methods. Currently this is a non binary\n",
       "    // socket, so there is still some room for performance tuning.\n",
       "    var ws = {};\n",
       "\n",
       "    ws.close = function() {\n",
       "        comm.close()\n",
       "    };\n",
       "    ws.send = function(m) {\n",
       "        //console.log('sending', m);\n",
       "        comm.send(m);\n",
       "    };\n",
       "    // Register the callback with on_msg.\n",
       "    comm.on_msg(function(msg) {\n",
       "        //console.log('receiving', msg['content']['data'], msg);\n",
       "        // Pass the mpl event to the overridden (by mpl) onmessage function.\n",
       "        ws.onmessage(msg['content']['data'])\n",
       "    });\n",
       "    return ws;\n",
       "}\n",
       "\n",
       "mpl.mpl_figure_comm = function(comm, msg) {\n",
       "    // This is the function which gets called when the mpl process\n",
       "    // starts-up an IPython Comm through the \"matplotlib\" channel.\n",
       "\n",
       "    var id = msg.content.data.id;\n",
       "    // Get hold of the div created by the display call when the Comm\n",
       "    // socket was opened in Python.\n",
       "    var element = $(\"#\" + id);\n",
       "    var ws_proxy = comm_websocket_adapter(comm)\n",
       "\n",
       "    function ondownload(figure, format) {\n",
       "        window.open(figure.imageObj.src);\n",
       "    }\n",
       "\n",
       "    var fig = new mpl.figure(id, ws_proxy,\n",
       "                           ondownload,\n",
       "                           element.get(0));\n",
       "\n",
       "    // Call onopen now - mpl needs it, as it is assuming we've passed it a real\n",
       "    // web socket which is closed, not our websocket->open comm proxy.\n",
       "    ws_proxy.onopen();\n",
       "\n",
       "    fig.parent_element = element.get(0);\n",
       "    fig.cell_info = mpl.find_output_cell(\"<div id='\" + id + \"'></div>\");\n",
       "    if (!fig.cell_info) {\n",
       "        console.error(\"Failed to find cell for figure\", id, fig);\n",
       "        return;\n",
       "    }\n",
       "\n",
       "    var output_index = fig.cell_info[2]\n",
       "    var cell = fig.cell_info[0];\n",
       "\n",
       "};\n",
       "\n",
       "mpl.figure.prototype.handle_close = function(fig, msg) {\n",
       "    var width = fig.canvas.width/mpl.ratio\n",
       "    fig.root.unbind('remove')\n",
       "\n",
       "    // Update the output cell to use the data from the current canvas.\n",
       "    fig.push_to_output();\n",
       "    var dataURL = fig.canvas.toDataURL();\n",
       "    // Re-enable the keyboard manager in IPython - without this line, in FF,\n",
       "    // the notebook keyboard shortcuts fail.\n",
       "    IPython.keyboard_manager.enable()\n",
       "    $(fig.parent_element).html('<img src=\"' + dataURL + '\" width=\"' + width + '\">');\n",
       "    fig.close_ws(fig, msg);\n",
       "}\n",
       "\n",
       "mpl.figure.prototype.close_ws = function(fig, msg){\n",
       "    fig.send_message('closing', msg);\n",
       "    // fig.ws.close()\n",
       "}\n",
       "\n",
       "mpl.figure.prototype.push_to_output = function(remove_interactive) {\n",
       "    // Turn the data on the canvas into data in the output cell.\n",
       "    var width = this.canvas.width/mpl.ratio\n",
       "    var dataURL = this.canvas.toDataURL();\n",
       "    this.cell_info[1]['text/html'] = '<img src=\"' + dataURL + '\" width=\"' + width + '\">';\n",
       "}\n",
       "\n",
       "mpl.figure.prototype.updated_canvas_event = function() {\n",
       "    // Tell IPython that the notebook contents must change.\n",
       "    IPython.notebook.set_dirty(true);\n",
       "    this.send_message(\"ack\", {});\n",
       "    var fig = this;\n",
       "    // Wait a second, then push the new image to the DOM so\n",
       "    // that it is saved nicely (might be nice to debounce this).\n",
       "    setTimeout(function () { fig.push_to_output() }, 1000);\n",
       "}\n",
       "\n",
       "mpl.figure.prototype._init_toolbar = function() {\n",
       "    var fig = this;\n",
       "\n",
       "    var nav_element = $('<div/>')\n",
       "    nav_element.attr('style', 'width: 100%');\n",
       "    this.root.append(nav_element);\n",
       "\n",
       "    // Define a callback function for later on.\n",
       "    function toolbar_event(event) {\n",
       "        return fig.toolbar_button_onclick(event['data']);\n",
       "    }\n",
       "    function toolbar_mouse_event(event) {\n",
       "        return fig.toolbar_button_onmouseover(event['data']);\n",
       "    }\n",
       "\n",
       "    for(var toolbar_ind in mpl.toolbar_items){\n",
       "        var name = mpl.toolbar_items[toolbar_ind][0];\n",
       "        var tooltip = mpl.toolbar_items[toolbar_ind][1];\n",
       "        var image = mpl.toolbar_items[toolbar_ind][2];\n",
       "        var method_name = mpl.toolbar_items[toolbar_ind][3];\n",
       "\n",
       "        if (!name) { continue; };\n",
       "\n",
       "        var button = $('<button class=\"btn btn-default\" href=\"#\" title=\"' + name + '\"><i class=\"fa ' + image + ' fa-lg\"></i></button>');\n",
       "        button.click(method_name, toolbar_event);\n",
       "        button.mouseover(tooltip, toolbar_mouse_event);\n",
       "        nav_element.append(button);\n",
       "    }\n",
       "\n",
       "    // Add the status bar.\n",
       "    var status_bar = $('<span class=\"mpl-message\" style=\"text-align:right; float: right;\"/>');\n",
       "    nav_element.append(status_bar);\n",
       "    this.message = status_bar[0];\n",
       "\n",
       "    // Add the close button to the window.\n",
       "    var buttongrp = $('<div class=\"btn-group inline pull-right\"></div>');\n",
       "    var button = $('<button class=\"btn btn-mini btn-primary\" href=\"#\" title=\"Stop Interaction\"><i class=\"fa fa-power-off icon-remove icon-large\"></i></button>');\n",
       "    button.click(function (evt) { fig.handle_close(fig, {}); } );\n",
       "    button.mouseover('Stop Interaction', toolbar_mouse_event);\n",
       "    buttongrp.append(button);\n",
       "    var titlebar = this.root.find($('.ui-dialog-titlebar'));\n",
       "    titlebar.prepend(buttongrp);\n",
       "}\n",
       "\n",
       "mpl.figure.prototype._root_extra_style = function(el){\n",
       "    var fig = this\n",
       "    el.on(\"remove\", function(){\n",
       "\tfig.close_ws(fig, {});\n",
       "    });\n",
       "}\n",
       "\n",
       "mpl.figure.prototype._canvas_extra_style = function(el){\n",
       "    // this is important to make the div 'focusable\n",
       "    el.attr('tabindex', 0)\n",
       "    // reach out to IPython and tell the keyboard manager to turn it's self\n",
       "    // off when our div gets focus\n",
       "\n",
       "    // location in version 3\n",
       "    if (IPython.notebook.keyboard_manager) {\n",
       "        IPython.notebook.keyboard_manager.register_events(el);\n",
       "    }\n",
       "    else {\n",
       "        // location in version 2\n",
       "        IPython.keyboard_manager.register_events(el);\n",
       "    }\n",
       "\n",
       "}\n",
       "\n",
       "mpl.figure.prototype._key_event_extra = function(event, name) {\n",
       "    var manager = IPython.notebook.keyboard_manager;\n",
       "    if (!manager)\n",
       "        manager = IPython.keyboard_manager;\n",
       "\n",
       "    // Check for shift+enter\n",
       "    if (event.shiftKey && event.which == 13) {\n",
       "        this.canvas_div.blur();\n",
       "        event.shiftKey = false;\n",
       "        // Send a \"J\" for go to next cell\n",
       "        event.which = 74;\n",
       "        event.keyCode = 74;\n",
       "        manager.command_mode();\n",
       "        manager.handle_keydown(event);\n",
       "    }\n",
       "}\n",
       "\n",
       "mpl.figure.prototype.handle_save = function(fig, msg) {\n",
       "    fig.ondownload(fig, null);\n",
       "}\n",
       "\n",
       "\n",
       "mpl.find_output_cell = function(html_output) {\n",
       "    // Return the cell and output element which can be found *uniquely* in the notebook.\n",
       "    // Note - this is a bit hacky, but it is done because the \"notebook_saving.Notebook\"\n",
       "    // IPython event is triggered only after the cells have been serialised, which for\n",
       "    // our purposes (turning an active figure into a static one), is too late.\n",
       "    var cells = IPython.notebook.get_cells();\n",
       "    var ncells = cells.length;\n",
       "    for (var i=0; i<ncells; i++) {\n",
       "        var cell = cells[i];\n",
       "        if (cell.cell_type === 'code'){\n",
       "            for (var j=0; j<cell.output_area.outputs.length; j++) {\n",
       "                var data = cell.output_area.outputs[j];\n",
       "                if (data.data) {\n",
       "                    // IPython >= 3 moved mimebundle to data attribute of output\n",
       "                    data = data.data;\n",
       "                }\n",
       "                if (data['text/html'] == html_output) {\n",
       "                    return [cell, data, j];\n",
       "                }\n",
       "            }\n",
       "        }\n",
       "    }\n",
       "}\n",
       "\n",
       "// Register the function which deals with the matplotlib target/channel.\n",
       "// The kernel may be null if the page has been refreshed.\n",
       "if (IPython.notebook.kernel != null) {\n",
       "    IPython.notebook.kernel.comm_manager.register_target('matplotlib', mpl.mpl_figure_comm);\n",
       "}\n"
      ],
      "text/plain": [
       "<IPython.core.display.Javascript object>"
      ]
     },
     "metadata": {},
     "output_type": "display_data"
    },
    {
     "data": {
      "text/html": [
       "<img src=\"data:image/png;base64,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\" width=\"640\">"
      ],
      "text/plain": [
       "<IPython.core.display.HTML object>"
      ]
     },
     "metadata": {},
     "output_type": "display_data"
    },
    {
     "data": {
      "text/plain": [
       "<matplotlib.axes._subplots.AxesSubplot at 0x1385dfc8860>"
      ]
     },
     "execution_count": 109,
     "metadata": {},
     "output_type": "execute_result"
    }
   ],
   "source": [
    "data.resample('3M').max().plot()"
   ]
  },
  {
   "cell_type": "code",
   "execution_count": null,
   "metadata": {},
   "outputs": [],
   "source": []
  }
 ],
 "metadata": {
  "kernelspec": {
   "display_name": "Python 3",
   "language": "python",
   "name": "python3"
  },
  "language_info": {
   "codemirror_mode": {
    "name": "ipython",
    "version": 3
   },
   "file_extension": ".py",
   "mimetype": "text/x-python",
   "name": "python",
   "nbconvert_exporter": "python",
   "pygments_lexer": "ipython3",
   "version": "3.7.1"
  }
 },
 "nbformat": 4,
 "nbformat_minor": 2
}
